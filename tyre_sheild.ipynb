{
  "nbformat": 4,
  "nbformat_minor": 0,
  "metadata": {
    "colab": {
      "provenance": [],
      "authorship_tag": "ABX9TyMgJcrCZn8FDdfT35ViX61F",
      "include_colab_link": true
    },
    "kernelspec": {
      "name": "python3",
      "display_name": "Python 3"
    },
    "language_info": {
      "name": "python"
    }
  },
  "cells": [
    {
      "cell_type": "markdown",
      "metadata": {
        "id": "view-in-github",
        "colab_type": "text"
      },
      "source": [
        "<a href=\"https://colab.research.google.com/github/ShekharSha/tyre_health_iot/blob/main/tyre_sheild.ipynb\" target=\"_parent\"><img src=\"https://colab.research.google.com/assets/colab-badge.svg\" alt=\"Open In Colab\"/></a>"
      ]
    },
    {
      "cell_type": "code",
      "source": [
        "!pip install streamlit pyngrok opencv-python-headless pandas\n"
      ],
      "metadata": {
        "id": "AjVggC2dP4XD"
      },
      "execution_count": null,
      "outputs": []
    },
    {
      "cell_type": "code",
      "source": [
        "%%writefile app.py\n",
        "import streamlit as st\n",
        "import datetime, random\n",
        "\n",
        "st.set_page_config(page_title=\"Tyre Protection Dashboard\", layout=\"wide\")\n",
        "st.title(\"🚗 Vehicle Tyre Protection Dashboard\")\n",
        "\n",
        "st.sidebar.header(\"⚙️ Alert Thresholds\")\n",
        "strength_thresh = st.sidebar.slider(\"Min Strength (%)\", 0, 100, 30)\n",
        "durability_thresh = st.sidebar.slider(\"Min Durability (%)\", 0, 100, 40)\n",
        "friction_thresh = st.sidebar.slider(\"Min Friction (%)\", 0, 100, 35)\n",
        "\n",
        "def simulate_tyre_metrics():\n",
        "    return {\n",
        "        \"strength\": random.randint(20, 100),\n",
        "        \"rotation\": random.randint(1000, 4000),\n",
        "        \"friction\": random.randint(20, 100),\n",
        "        \"lifespan\": random.randint(10000, 60000),\n",
        "        \"durability\": random.randint(20, 100),\n",
        "        \"install_date\": datetime.date(2024, random.randint(1,12), random.randint(1,28))\n",
        "    }\n",
        "\n",
        "if st.button(\"Simulate Tyre Metrics\"):\n",
        "    metrics = simulate_tyre_metrics()\n",
        "    cols = st.columns(3)\n",
        "\n",
        "    with cols[0]:\n",
        "        st.metric(\"Tyre Strength\", f\"{metrics['strength']}%\")\n",
        "        st.metric(\"Friction\", f\"{metrics['friction']}%\")\n",
        "\n",
        "    with cols[1]:\n",
        "        st.metric(\"Rotation\", f\"{metrics['rotation']} rpm\")\n",
        "        st.metric(\"Durability\", f\"{metrics['durability']}%\")\n",
        "\n",
        "    with cols[2]:\n",
        "        st.metric(\"Lifespan\", f\"{metrics['lifespan']} km\")\n",
        "        st.metric(\"Installed On\", metrics['install_date'])\n",
        "\n",
        "    if metrics['strength'] < strength_thresh:\n",
        "        st.error(f\"⚠️ Strength Low: {metrics['strength']}%\")\n",
        "    if metrics['durability'] < durability_thresh:\n",
        "        st.warning(f\"⚠️ Durability Low: {metrics['durability']}%\")\n",
        "    if metrics['friction'] < friction_thresh:\n",
        "        st.warning(f\"⚠️ Friction Low: {metrics['friction']}%\")\n",
        "else:\n",
        "    st.info(\"Click the button to generate tyre metrics 🚗\")\n"
      ],
      "metadata": {
        "id": "TBOYIydqQAvj"
      },
      "execution_count": null,
      "outputs": []
    }
  ]
}